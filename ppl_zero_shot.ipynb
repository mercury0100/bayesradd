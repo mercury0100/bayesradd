{
 "cells": [
  {
   "cell_type": "code",
   "execution_count": 4,
   "id": "7ecbbb02-49d8-4917-9599-16e03bfa6348",
   "metadata": {
    "tags": []
   },
   "outputs": [
    {
     "data": {
      "application/vnd.jupyter.widget-view+json": {
       "model_id": "8dfd781d54b64b2780fb36347ffdd8c2",
       "version_major": 2,
       "version_minor": 0
      },
      "text/plain": [
       "DCE PPL:   0%|          | 0/1 [00:00<?, ?it/s]"
      ]
     },
     "metadata": {},
     "output_type": "display_data"
    },
    {
     "data": {
      "application/vnd.jupyter.widget-view+json": {
       "model_id": "5929b27adfe845ba9ee121678514bcd9",
       "version_major": 2,
       "version_minor": 0
      },
      "text/plain": [
       "MC double‐mask PPL:   0%|          | 0/1 [00:00<?, ?it/s]"
      ]
     },
     "metadata": {},
     "output_type": "display_data"
    },
    {
     "name": "stdout",
     "output_type": "stream",
     "text": [
      "Vanilla λ-DCE PPL = 42.37\n",
      "MC-marginal PPL   = 49.41\n"
     ]
    }
   ],
   "source": [
    "import os\n",
    "import json\n",
    "import math\n",
    "import torch\n",
    "from tqdm.auto import tqdm\n",
    "import argparse\n",
    "\n",
    "from load_model import load_model\n",
    "from bayes_radd import zero_shot_ppl, zero_shot_mc_ppl\n",
    "import data\n",
    "\n",
    "# ─── SETTINGS ────────────────────────────────────────────────────────────────\n",
    "MODEL_PATH   = \"JingyangOu/radd-t-dce\"\n",
    "SEQ_LEN      = 1024\n",
    "BATCH_SIZE   = 16\n",
    "MAX_BATCHES  = 1   # for a quick smoke test; set to None to do the full split\n",
    "K = 64\n",
    "OUT_DIR      = \"BayesRADD\"\n",
    "os.makedirs(OUT_DIR, exist_ok=True)\n",
    "\n",
    "# ─── DEVICE & SEED ────────────────────────────────────────────────────────────\n",
    "torch.manual_seed(42)\n",
    "device = torch.device(\"cuda\" if torch.cuda.is_available() else \"cpu\")\n",
    "\n",
    "# ─── MODEL & NOISE ───────────────────────────────────────────────────────────\n",
    "model, noise = load_model(MODEL_PATH, device)\n",
    "model.eval()\n",
    "\n",
    "# ─── DATA LOADER ─────────────────────────────────────────────────────────────\n",
    "def build_loader():\n",
    "    args = argparse.Namespace(\n",
    "        cache_dir=\"data\", batch_size=BATCH_SIZE,\n",
    "        length=SEQ_LEN, valid_dataset=\"wikitext2\", ngpus=1\n",
    "    )\n",
    "    return data.get_valid_dataloaders(args, distributed=False)\n",
    "\n",
    "# ─── RUN ONE-SHOT BAYESRADD PPL ───────────────────────────────────────────────\n",
    "if __name__ == \"__main__\":\n",
    "    loader = build_loader()\n",
    "    vanilla = zero_shot_ppl(\n",
    "        model=model, noise=noise, device=device,\n",
    "        dataloader=loader, max_batches=MAX_BATCHES, sequence_length=SEQ_LEN\n",
    "    )\n",
    "\n",
    "    mc = zero_shot_mc_ppl(\n",
    "        model=model, noise=noise, device=device,\n",
    "        dataloader=loader, K=K, mask_rate=0.05,\n",
    "        max_batches=MAX_BATCHES, sequence_length=SEQ_LEN\n",
    "    )\n",
    "\n",
    "    print(f\"Vanilla λ-DCE PPL = {vanilla:.2f}\")\n",
    "    print(f\"MC-marginal PPL   = {mc:.2f}\")"
   ]
  }
 ],
 "metadata": {
  "environment": {
   "kernel": "conda-base-py",
   "name": "workbench-notebooks.m130",
   "type": "gcloud",
   "uri": "us-docker.pkg.dev/deeplearning-platform-release/gcr.io/workbench-notebooks:m130"
  },
  "kernelspec": {
   "display_name": "Python 3 (ipykernel)",
   "language": "python",
   "name": "conda-base-py"
  },
  "language_info": {
   "codemirror_mode": {
    "name": "ipython",
    "version": 3
   },
   "file_extension": ".py",
   "mimetype": "text/x-python",
   "name": "python",
   "nbconvert_exporter": "python",
   "pygments_lexer": "ipython3",
   "version": "3.10.18"
  }
 },
 "nbformat": 4,
 "nbformat_minor": 5
}
